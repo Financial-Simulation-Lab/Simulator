{
 "cells": [
  {
   "cell_type": "code",
   "execution_count": null,
   "metadata": {
    "colab": {
     "base_uri": "https://localhost:8080/"
    },
    "executionInfo": {
     "elapsed": 9,
     "status": "ok",
     "timestamp": 1688023837828,
     "user": {
      "displayName": "JJ R",
      "userId": "14120256928609999764"
     },
     "user_tz": -480
    },
    "id": "t7wTxJnRwqsZ",
    "outputId": "b0ebd817-c187-419e-d60a-997f1862a53a"
   },
   "outputs": [],
   "source": [
    "!mkdir build && cd build && cmake ../ && cmake --build ."
   ]
  },
  {
   "cell_type": "code",
   "execution_count": 1,
   "metadata": {
    "colab": {
     "base_uri": "https://localhost:8080/"
    },
    "executionInfo": {
     "elapsed": 12227,
     "status": "ok",
     "timestamp": 1688479794516,
     "user": {
      "displayName": "JJ R",
      "userId": "14120256928609999764"
     },
     "user_tz": -480
    },
    "id": "uPW-PeH9ugcL",
    "outputId": "830dd2a0-7412-487c-dae3-bddfbc1b8a5d"
   },
   "outputs": [
    {
     "name": "stdout",
     "output_type": "stream",
     "text": [
      "-- pybind11 v2.4.dev4\n",
      "-- Configuring done\n",
      "-- Generating done\n",
      "-- Build files have been written to: /home/renjunji_2023/Simulator/build\n",
      "\u001b[35m\u001b[1mScanning dependencies of target TheSimulator\u001b[0m\n",
      "[  2%] \u001b[32mBuilding CXX object TheSimulator/TheSimulator/CMakeFiles/TheSimulator.dir/AdaptiveOfferingAgent.cpp.o\u001b[0m\n",
      "[  5%] \u001b[32mBuilding CXX object TheSimulator/TheSimulator/CMakeFiles/TheSimulator.dir/Agent.cpp.o\u001b[0m\n",
      "[  8%] \u001b[32mBuilding CXX object TheSimulator/TheSimulator/CMakeFiles/TheSimulator.dir/Book.cpp.o\u001b[0m\n",
      "\u001b[01m\u001b[K/home/renjunji_2023/Simulator/TheSimulator/TheSimulator/Book.cpp:\u001b[m\u001b[K In member function ‘\u001b[01m\u001b[Kvirtual std::string Book::printCSV() const\u001b[m\u001b[K’:\n",
      "\u001b[01m\u001b[K/home/renjunji_2023/Simulator/TheSimulator/TheSimulator/Book.cpp:149:1:\u001b[m\u001b[K \u001b[01;35m\u001b[Kwarning: \u001b[m\u001b[Kno return statement in function returning non-void [\u001b[01;35m\u001b[K-Wreturn-type\u001b[m\u001b[K]\n",
      "  149 | \u001b[01;35m\u001b[K}\u001b[m\u001b[K\n",
      "      | \u001b[01;35m\u001b[K^\u001b[m\u001b[K\n",
      "\u001b[01m\u001b[K/home/renjunji_2023/Simulator/TheSimulator/TheSimulator/Book.cpp:\u001b[m\u001b[K In member function ‘\u001b[01m\u001b[Kstd::string Book::printCSV(unsigned int) const\u001b[m\u001b[K’:\n",
      "\u001b[01m\u001b[K/home/renjunji_2023/Simulator/TheSimulator/TheSimulator/Book.cpp:172:1:\u001b[m\u001b[K \u001b[01;35m\u001b[Kwarning: \u001b[m\u001b[Kno return statement in function returning non-void [\u001b[01;35m\u001b[K-Wreturn-type\u001b[m\u001b[K]\n",
      "  172 | \u001b[01;35m\u001b[K}\u001b[m\u001b[K\n",
      "      | \u001b[01;35m\u001b[K^\u001b[m\u001b[K\n",
      "In file included from \u001b[01m\u001b[K/home/renjunji_2023/Simulator/TheSimulator/TheSimulator/Book.cpp:1\u001b[m\u001b[K:\n",
      "\u001b[01m\u001b[K/home/renjunji_2023/Simulator/TheSimulator/TheSimulator/Book.h:\u001b[m\u001b[K In member function ‘\u001b[01m\u001b[Kstd::string Book::dumpCSVLOB(CIteratorType, CIteratorType, unsigned int) const [with CIteratorType = std::_Deque_iterator<TickContainer, const TickContainer&, const TickContainer*>]\u001b[m\u001b[K’:\n",
      "\u001b[01m\u001b[K/home/renjunji_2023/Simulator/TheSimulator/TheSimulator/Book.h:123:1:\u001b[m\u001b[K \u001b[01;35m\u001b[Kwarning: \u001b[m\u001b[Kcontrol reaches end of non-void function [\u001b[01;35m\u001b[K-Wreturn-type\u001b[m\u001b[K]\n",
      "  123 | \u001b[01;35m\u001b[K}\u001b[m\u001b[K\n",
      "      | \u001b[01;35m\u001b[K^\u001b[m\u001b[K\n",
      "\u001b[01m\u001b[K/home/renjunji_2023/Simulator/TheSimulator/TheSimulator/Book.h:\u001b[m\u001b[K In member function ‘\u001b[01m\u001b[Kstd::string Book::dumpCSVLOB(CIteratorType, CIteratorType, unsigned int) const [with CIteratorType = std::reverse_iterator<std::_Deque_iterator<TickContainer, const TickContainer&, const TickContainer*> >]\u001b[m\u001b[K’:\n",
      "\u001b[01m\u001b[K/home/renjunji_2023/Simulator/TheSimulator/TheSimulator/Book.h:123:1:\u001b[m\u001b[K \u001b[01;35m\u001b[Kwarning: \u001b[m\u001b[Kcontrol reaches end of non-void function [\u001b[01;35m\u001b[K-Wreturn-type\u001b[m\u001b[K]\n",
      "  123 | \u001b[01;35m\u001b[K}\u001b[m\u001b[K\n",
      "      | \u001b[01;35m\u001b[K^\u001b[m\u001b[K\n",
      "[ 11%] \u001b[32mBuilding CXX object TheSimulator/TheSimulator/CMakeFiles/TheSimulator.dir/BouchaudAgent.cpp.o\u001b[0m\n",
      "[ 14%] \u001b[32mBuilding CXX object TheSimulator/TheSimulator/CMakeFiles/TheSimulator.dir/Decimal.cpp.o\u001b[0m\n",
      "[ 17%] \u001b[32mBuilding CXX object TheSimulator/TheSimulator/CMakeFiles/TheSimulator.dir/DoobAgent.cpp.o\u001b[0m\n",
      "[ 20%] \u001b[32mBuilding CXX object TheSimulator/TheSimulator/CMakeFiles/TheSimulator.dir/ExchangeAgent.cpp.o\u001b[0m\n",
      "[ 22%] \u001b[32mBuilding CXX object TheSimulator/TheSimulator/CMakeFiles/TheSimulator.dir/TheSimulatorModule.cpp.o\u001b[0m\n",
      "[ 25%] \u001b[32mBuilding CXX object TheSimulator/TheSimulator/CMakeFiles/TheSimulator.dir/IMessageable.cpp.o\u001b[0m\n",
      "[ 28%] \u001b[32mBuilding CXX object TheSimulator/TheSimulator/CMakeFiles/TheSimulator.dir/ImpactAgent.cpp.o\u001b[0m\n",
      "[ 31%] \u001b[32mBuilding CXX object TheSimulator/TheSimulator/CMakeFiles/TheSimulator.dir/L1LogAgent.cpp.o\u001b[0m\n",
      "[ 34%] \u001b[32mBuilding CXX object TheSimulator/TheSimulator/CMakeFiles/TheSimulator.dir/LiquidityProvider.cpp.o\u001b[0m\n",
      "[ 37%] \u001b[32mBuilding CXX object TheSimulator/TheSimulator/CMakeFiles/TheSimulator.dir/LiquidityTaker.cpp.o\u001b[0m\n",
      "[ 40%] \u001b[32mBuilding CXX object TheSimulator/TheSimulator/CMakeFiles/TheSimulator.dir/main.cpp.o\u001b[0m\n",
      "[ 42%] \u001b[32mBuilding CXX object TheSimulator/TheSimulator/CMakeFiles/TheSimulator.dir/Money.cpp.o\u001b[0m\n",
      "[ 45%] \u001b[32mBuilding CXX object TheSimulator/TheSimulator/CMakeFiles/TheSimulator.dir/Order.cpp.o\u001b[0m\n",
      "[ 48%] \u001b[32mBuilding CXX object TheSimulator/TheSimulator/CMakeFiles/TheSimulator.dir/OrderLogAgent.cpp.o\u001b[0m\n",
      "[ 51%] \u001b[32mBuilding CXX object TheSimulator/TheSimulator/CMakeFiles/TheSimulator.dir/OrderRecord.cpp.o\u001b[0m\n",
      "[ 54%] \u001b[32mBuilding CXX object TheSimulator/TheSimulator/CMakeFiles/TheSimulator.dir/ParameterStorage.cpp.o\u001b[0m\n",
      "[ 57%] \u001b[32mBuilding CXX object TheSimulator/TheSimulator/CMakeFiles/TheSimulator.dir/PriceTimeBook.cpp.o\u001b[0m\n",
      "[ 60%] \u001b[32mBuilding CXX object TheSimulator/TheSimulator/CMakeFiles/TheSimulator.dir/PriorityProRataBook.cpp.o\u001b[0m\n",
      "[ 62%] \u001b[32mBuilding CXX object TheSimulator/TheSimulator/CMakeFiles/TheSimulator.dir/PureProRataBook.cpp.o\u001b[0m\n",
      "[ 65%] \u001b[32mBuilding CXX object TheSimulator/TheSimulator/CMakeFiles/TheSimulator.dir/PythonAgent.cpp.o\u001b[0m\n",
      "In file included from \u001b[01m\u001b[K/home/renjunji_2023/Simulator/TheSimulator/TheSimulator/PythonAgent.cpp:1\u001b[m\u001b[K:\n",
      "\u001b[01m\u001b[K/home/renjunji_2023/Simulator/TheSimulator/TheSimulator/PythonAgent.h:8:7:\u001b[m\u001b[K \u001b[01;35m\u001b[Kwarning: \u001b[m\u001b[K‘\u001b[01m\u001b[KPythonAgent\u001b[m\u001b[K’ declared with greater visibility than the type of its field ‘\u001b[01m\u001b[KPythonAgent::m_instance\u001b[m\u001b[K’ [\u001b[01;35m\u001b[K-Wattributes\u001b[m\u001b[K]\n",
      "    8 | class \u001b[01;35m\u001b[KPythonAgent\u001b[m\u001b[K : public Agent {\n",
      "      |       \u001b[01;35m\u001b[K^~~~~~~~~~~\u001b[m\u001b[K\n",
      "[ 68%] \u001b[32mBuilding CXX object TheSimulator/TheSimulator/CMakeFiles/TheSimulator.dir/RandomWalkMarketMakerAgent.cpp.o\u001b[0m\n",
      "[ 71%] \u001b[32mBuilding CXX object TheSimulator/TheSimulator/CMakeFiles/TheSimulator.dir/SetupAgent.cpp.o\u001b[0m\n",
      "[ 74%] \u001b[32mBuilding CXX object TheSimulator/TheSimulator/CMakeFiles/TheSimulator.dir/Simulation.cpp.o\u001b[0m\n",
      "In file included from \u001b[01m\u001b[K/home/renjunji_2023/Simulator/TheSimulator/TheSimulator/Simulation.cpp:13\u001b[m\u001b[K:\n",
      "\u001b[01m\u001b[K/home/renjunji_2023/Simulator/TheSimulator/TheSimulator/PythonAgent.h:8:7:\u001b[m\u001b[K \u001b[01;35m\u001b[Kwarning: \u001b[m\u001b[K‘\u001b[01m\u001b[KPythonAgent\u001b[m\u001b[K’ declared with greater visibility than the type of its field ‘\u001b[01m\u001b[KPythonAgent::m_instance\u001b[m\u001b[K’ [\u001b[01;35m\u001b[K-Wattributes\u001b[m\u001b[K]\n",
      "    8 | class \u001b[01;35m\u001b[KPythonAgent\u001b[m\u001b[K : public Agent {\n",
      "      |       \u001b[01;35m\u001b[K^~~~~~~~~~~\u001b[m\u001b[K\n",
      "[ 77%] \u001b[32mBuilding CXX object TheSimulator/TheSimulator/CMakeFiles/TheSimulator.dir/split.cpp.o\u001b[0m\n",
      "[ 80%] \u001b[32mBuilding CXX object TheSimulator/TheSimulator/CMakeFiles/TheSimulator.dir/TimeProRataBook.cpp.o\u001b[0m\n",
      "[ 82%] \u001b[32mBuilding CXX object TheSimulator/TheSimulator/CMakeFiles/TheSimulator.dir/Trade.cpp.o\u001b[0m\n",
      "[ 85%] \u001b[32mBuilding CXX object TheSimulator/TheSimulator/CMakeFiles/TheSimulator.dir/TradeFactory.cpp.o\u001b[0m\n",
      "[ 88%] \u001b[32mBuilding CXX object TheSimulator/TheSimulator/CMakeFiles/TheSimulator.dir/TradeLogAgent.cpp.o\u001b[0m\n",
      "[ 91%] \u001b[32mBuilding CXX object TheSimulator/TheSimulator/CMakeFiles/TheSimulator.dir/ZIAgent.cpp.o\u001b[0m\n",
      "[ 94%] \u001b[32mBuilding CXX object TheSimulator/TheSimulator/CMakeFiles/TheSimulator.dir/dimcli/cli.cpp.o\u001b[0m\n",
      "[ 97%] \u001b[32mBuilding CXX object TheSimulator/TheSimulator/CMakeFiles/TheSimulator.dir/pugi/pugixml.cpp.o\u001b[0m\n",
      "[100%] \u001b[32m\u001b[1mLinking CXX executable TheSimulator\u001b[0m\n",
      "[100%] Built target TheSimulator\n"
     ]
    }
   ],
   "source": [
    "!cd build && cmake ../ && cmake --build ."
   ]
  },
  {
   "cell_type": "code",
   "execution_count": 2,
   "metadata": {},
   "outputs": [
    {
     "name": "stdout",
     "output_type": "stream",
     "text": [
      "ExchangeSimulator v2.0\n",
      " - 'Test.xml' loaded successfully\n",
      " - starting the simulations\n",
      "random seed: 2418446980\n",
      "Total duration time: 3600\n",
      "Already process 1000000 messages at time 2799\n",
      "Finally 1285087 messages were processed!\n",
      "Finish in 29 seconds\n",
      " - all simulations finished, exiting\n"
     ]
    }
   ],
   "source": [
    "!build/TheSimulator/TheSimulator/TheSimulator Test.xml"
   ]
  },
  {
   "cell_type": "code",
   "execution_count": null,
   "metadata": {},
   "outputs": [],
   "source": [
    "import matplotlib.pyplot as plt\n",
    "import pandas as pd\n",
    "import numpy as np\n",
    "\n",
    "fake = pd.read_csv('log/test_LL_log.csv')[0:-1:60]\n",
    "fake = (fake['bestAskPrice'] + fake['bestBidPrice']) / 2\n",
    "\n",
    "plt.plot(np.arange(len(fake)), fake, label='Simulation')\n",
    "plt.title('Sample')\n",
    "plt.legend()\n",
    "plt.show()"
   ]
  }
 ],
 "metadata": {
  "colab": {
   "authorship_tag": "ABX9TyN/c1vya7A3/uldHF38yMcP",
   "provenance": []
  },
  "kernelspec": {
   "display_name": "base",
   "language": "python",
   "name": "python3"
  },
  "language_info": {
   "codemirror_mode": {
    "name": "ipython",
    "version": 3
   },
   "file_extension": ".py",
   "mimetype": "text/x-python",
   "name": "python",
   "nbconvert_exporter": "python",
   "pygments_lexer": "ipython3",
   "version": "3.11.4"
  }
 },
 "nbformat": 4,
 "nbformat_minor": 0
}
